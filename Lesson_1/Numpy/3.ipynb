{
 "cells": [
  {
   "cell_type": "markdown",
   "id": "c6958f65",
   "metadata": {},
   "source": [
    "## Задание 3"
   ]
  },
  {
   "cell_type": "code",
   "execution_count": 1,
   "id": "195387b3",
   "metadata": {},
   "outputs": [],
   "source": [
    "import numpy as np"
   ]
  },
  {
   "cell_type": "code",
   "execution_count": 2,
   "id": "99f33406",
   "metadata": {},
   "outputs": [],
   "source": [
    "a = np.array([[1, 6],\n",
    "             [2, 8],\n",
    "             [3, 11],\n",
    "             [3, 10],\n",
    "             [1, 7]])"
   ]
  },
  {
   "cell_type": "code",
   "execution_count": 3,
   "id": "c2d37ee5",
   "metadata": {},
   "outputs": [],
   "source": [
    "a_centered = np.array([[-1. , -2.4],\n",
    "       [ 0. , -0.4],\n",
    "       [ 1. ,  2.6],\n",
    "       [ 1. ,  1.6],\n",
    "       [-1. , -1.4]])"
   ]
  },
  {
   "cell_type": "code",
   "execution_count": 4,
   "id": "0a499bb5",
   "metadata": {},
   "outputs": [
    {
     "data": {
      "text/plain": [
       "8.0"
      ]
     },
     "execution_count": 4,
     "metadata": {},
     "output_type": "execute_result"
    }
   ],
   "source": [
    "a_centered_sp = np.dot(a_centered[:,0],a_centered[:,1])\n",
    "a_centered_sp"
   ]
  },
  {
   "cell_type": "markdown",
   "id": "ff9da31f",
   "metadata": {},
   "source": [
    "#### Второй вариант скалярного произведения"
   ]
  },
  {
   "cell_type": "code",
   "execution_count": 5,
   "id": "27ac56f7",
   "metadata": {},
   "outputs": [],
   "source": [
    "a_centered_sp = a_centered[:,0]@a_centered[:,1]"
   ]
  },
  {
   "cell_type": "code",
   "execution_count": 6,
   "id": "98c88034",
   "metadata": {},
   "outputs": [
    {
     "data": {
      "text/plain": [
       "8.0"
      ]
     },
     "execution_count": 6,
     "metadata": {},
     "output_type": "execute_result"
    }
   ],
   "source": [
    "a_centered_sp"
   ]
  },
  {
   "cell_type": "code",
   "execution_count": 7,
   "id": "abc24dc2",
   "metadata": {},
   "outputs": [
    {
     "data": {
      "text/plain": [
       "2.0"
      ]
     },
     "execution_count": 7,
     "metadata": {},
     "output_type": "execute_result"
    }
   ],
   "source": [
    "a_centered_sp/(a.shape[0]-1)"
   ]
  }
 ],
 "metadata": {
  "kernelspec": {
   "display_name": "Python 3 (ipykernel)",
   "language": "python",
   "name": "python3"
  },
  "language_info": {
   "codemirror_mode": {
    "name": "ipython",
    "version": 3
   },
   "file_extension": ".py",
   "mimetype": "text/x-python",
   "name": "python",
   "nbconvert_exporter": "python",
   "pygments_lexer": "ipython3",
   "version": "3.9.12"
  }
 },
 "nbformat": 4,
 "nbformat_minor": 5
}
